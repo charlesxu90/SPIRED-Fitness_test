{
 "cells": [
  {
   "cell_type": "code",
   "execution_count": 1,
   "metadata": {},
   "outputs": [
    {
     "name": "stderr",
     "output_type": "stream",
     "text": [
      "Using cache found in /home/xiaopeng/.cache/torch/hub/facebookresearch_esm_main\n",
      "Using cache found in /home/xiaopeng/.cache/torch/hub/facebookresearch_esm_main\n"
     ]
    }
   ],
   "source": [
    "from scripts.model import SPIRED_Stab\n",
    "import torch\n",
    "\n",
    "device = 'cpu'\n",
    "# load parameter\n",
    "model = SPIRED_Stab(device_list = [device, device, device, device])\n",
    "model.load_state_dict(torch.load('data/model/SPIRED-Stab.pth'))\n",
    "model.eval()\n",
    "\n",
    "# load ESM-2 650M model\n",
    "esm2_650M, _ = torch.hub.load('facebookresearch/esm:main', 'esm2_t33_650M_UR50D')\n",
    "esm2_650M.eval()\n",
    "    \n",
    "# load ESM-2 3B model\n",
    "esm2_3B, esm2_alphabet = torch.hub.load('facebookresearch/esm:main', 'esm2_t36_3B_UR50D')\n",
    "esm2_3B.eval()\n",
    "esm2_batch_converter = esm2_alphabet.get_batch_converter()"
   ]
  },
  {
   "cell_type": "markdown",
   "metadata": {},
   "source": [
    "# Evaluate variants one-by-one"
   ]
  },
  {
   "cell_type": "code",
   "execution_count": 2,
   "metadata": {},
   "outputs": [],
   "source": [
    "def get_data_single(seq, device='cpu'):\n",
    "    \n",
    "    with torch.no_grad():\n",
    "        _, _, target_tokens = esm2_batch_converter([('', seq)])\n",
    "        results = esm2_3B(target_tokens.to(device), repr_layers = range(37), need_head_weights = False, return_contacts = False)\n",
    "        f1d_esm2_3B = torch.stack([v for _, v in sorted(results[\"representations\"].items())], dim = 2)\n",
    "        f1d_esm2_3B = f1d_esm2_3B[:, 1:-1]\n",
    "        f1d_esm2_3B = f1d_esm2_3B.to(dtype = torch.float32)\n",
    "        \n",
    "        result_esm2_650m = esm2_650M(target_tokens.to(device), repr_layers = [33], return_contacts = False)\n",
    "        f1d_esm2_650M = result_esm2_650m['representations'][33][0, 1:-1, :].unsqueeze(0)\n",
    "    \n",
    "    data = {\n",
    "            'target_tokens': target_tokens[:, 1:-1],\n",
    "            'esm2-3B': f1d_esm2_3B,\n",
    "            'embedding': f1d_esm2_650M\n",
    "        }\n",
    "    return data"
   ]
  },
  {
   "cell_type": "code",
   "execution_count": 3,
   "metadata": {},
   "outputs": [],
   "source": [
    "import numpy as np\n",
    "\n",
    "def pred_ddG_dTm(mut_seqs, wt_seqs, device='cpu'):\n",
    "    mut_data = [get_data_single(seq, device=device) for seq in mut_seqs]\n",
    "    wt_data = [get_data_single(seq, device=device) for seq in wt_seqs]\n",
    "\n",
    "    mut_pos_torch_list = [torch.tensor((np.array(list(wt_s)) != np.array(list(mut_s))).astype(int).tolist()) \n",
    "                          for wt_s, mut_s in zip(wt_seq, mut_seq)]\n",
    "\n",
    "    ddG_list = []\n",
    "    dTm_list = []\n",
    "    with torch.no_grad():\n",
    "        for wt_d, mut_d, mut_pos in zip(wt_data, mut_data, mut_pos_torch_list):\n",
    "            wt_d = {k: v.to(device) for k, v in wt_d.items()}\n",
    "            mut_d = {k: v.to(device) for k, v in mut_d.items()}\n",
    "            mut_pos = mut_pos.to(device)\n",
    "            ddG, dTm, _, _ = model(wt_d, mut_d, mut_pos)\n",
    "            # print(ddG.item(), dTm.item())\n",
    "            ddG_list.append(ddG.item())\n",
    "            dTm_list.append(dTm.item())\n",
    "    return ddG_list, dTm_list\n"
   ]
  },
  {
   "cell_type": "code",
   "execution_count": 4,
   "metadata": {},
   "outputs": [
    {
     "name": "stdout",
     "output_type": "stream",
     "text": [
      "SignificanceResult(statistic=0.8999999999999998, pvalue=0.03738607346849874)\n",
      "PearsonRResult(statistic=0.8835027286968199, pvalue=0.046888792768475386)\n"
     ]
    }
   ],
   "source": [
    "import pandas as pd\n",
    "from scipy.stats import spearmanr, pearsonr\n",
    "\n",
    "df_protherm_mm = pd.read_csv('data/protherm_multiple.csv')\n",
    "mut_seq = df_protherm_mm.mut_seq[:5]\n",
    "wt_seq = df_protherm_mm.wt_seq[:5]\n",
    "\n",
    "ddG_list, dTm_list = pred_ddG_dTm(mut_seq, wt_seq, device=device)\n",
    "\n",
    "target = df_protherm_mm['ddg'][:5]\n",
    "print(spearmanr(target, ddG_list))\n",
    "print(pearsonr(target, dTm_list))"
   ]
  },
  {
   "cell_type": "code",
   "execution_count": 8,
   "metadata": {},
   "outputs": [],
   "source": [
    "savinase = 'AQSVPWGISRVQAPAAHNRGLTGSGVKVAVLDTGISTHPDLNIRGGASFVPGEPSTQDGNGHGTHVAGTIAALNNSIGVLGVAPSAELYAVKVLGASGSGSVSSIAQGLEWAGNNGMHVANLSLGSPSPSATLEQAVNSATSRGVLVVAASGNSGAGSISYPARYANAMAVGATDQNNNRASFSQYGAGLDIVAPGVNVQSTYPGSTYASLNGTSMATPHVAGAAALVKQKNPSWSNVQIRNHLKNTATSLGSTNLYGSGLVNAEAATR'\n",
    "\n",
    "df_stab_mm = pd.read_csv('data/stab_data_bsj_r1.csv')\n",
    "\n",
    "\n",
    "df_stab_mm['seq_len'] = df_stab_mm.seq.apply(len)\n",
    "\n",
    "df_stab_mm =  df_stab_mm[df_stab_mm.seq_len == 269].copy()\n",
    "\n",
    "\n",
    "mut_seq = df_stab_mm.seq\n",
    "wt_seq = [savinase] * len(mut_seq)"
   ]
  },
  {
   "cell_type": "code",
   "execution_count": 49,
   "metadata": {},
   "outputs": [],
   "source": [
    "# ddG_list, dTm_list = pred_ddG_dTm(mut_seq, wt_seq)\n",
    "\n",
    "target = df_stab_mm['Stability']"
   ]
  },
  {
   "cell_type": "code",
   "execution_count": null,
   "metadata": {},
   "outputs": [],
   "source": [
    "np.save('data/stab_ddg_pred.npy', ddG_list)\n",
    "np.save('data/stab_target.npy', target)\n",
    "np.save('data/stab_dtm_pred.npy', dTm_list)"
   ]
  },
  {
   "cell_type": "code",
   "execution_count": 35,
   "metadata": {},
   "outputs": [
    {
     "data": {
      "text/plain": [
       "(243, 258, 15)"
      ]
     },
     "execution_count": 35,
     "metadata": {},
     "output_type": "execute_result"
    }
   ],
   "source": [
    "len(target), len(mut_seq), len(nan_idx)"
   ]
  },
  {
   "cell_type": "code",
   "execution_count": 53,
   "metadata": {},
   "outputs": [
    {
     "name": "stdout",
     "output_type": "stream",
     "text": [
      "228 230 230 15\n"
     ]
    }
   ],
   "source": [
    "# get index of values with np.nan\n",
    "\n",
    "nan_idx = [i for i, t in enumerate(target) if np.isnan(t)]\n",
    "\n",
    "target_notna = [t for i, t in enumerate(target_notna) if i not in nan_idx]\n",
    "ddG_list_notna = [t for i, t in enumerate(ddG_list) if i not in nan_idx]\n",
    "dTm_list_notna = [t for i, t in enumerate(dTm_list) if i not in nan_idx]\n",
    "\n",
    "print(len(target_notna), len(ddG_list_notna), len(dTm_list_notna), len(nan_idx))"
   ]
  },
  {
   "cell_type": "code",
   "execution_count": 51,
   "metadata": {},
   "outputs": [
    {
     "data": {
      "text/plain": [
       "[39, 50, 54, 57, 68, 70, 72, 102, 135, 142, 143, 192, 200, 203, 218]"
      ]
     },
     "execution_count": 51,
     "metadata": {},
     "output_type": "execute_result"
    }
   ],
   "source": [
    "nan_idx"
   ]
  },
  {
   "cell_type": "code",
   "execution_count": 54,
   "metadata": {},
   "outputs": [
    {
     "ename": "NameError",
     "evalue": "name 'ddG_list_notna' is not defined",
     "output_type": "error",
     "traceback": [
      "\u001b[0;31m---------------------------------------------------------------------------\u001b[0m",
      "\u001b[0;31mNameError\u001b[0m                                 Traceback (most recent call last)",
      "Cell \u001b[0;32mIn[54], line 1\u001b[0m\n\u001b[0;32m----> 1\u001b[0m \u001b[38;5;28mprint\u001b[39m(spearmanr(target_notna, \u001b[43mddG_list_notna\u001b[49m))\n",
      "\u001b[0;31mNameError\u001b[0m: name 'ddG_list_notna' is not defined"
     ]
    }
   ],
   "source": [
    "print(spearmanr(target_notna, ddG_list_notna))"
   ]
  },
  {
   "cell_type": "code",
   "execution_count": 12,
   "metadata": {},
   "outputs": [
    {
     "name": "stdout",
     "output_type": "stream",
     "text": [
      "SignificanceResult(statistic=nan, pvalue=nan)\n"
     ]
    }
   ],
   "source": [
    "print(spearmanr(target_notna, ddG_list_notna))"
   ]
  },
  {
   "cell_type": "code",
   "execution_count": 15,
   "metadata": {},
   "outputs": [
    {
     "name": "stdout",
     "output_type": "stream",
     "text": [
      "SignificanceResult(statistic=nan, pvalue=nan)\n"
     ]
    }
   ],
   "source": [
    "print(spearmanr(target_notna, dTm_list_notna))"
   ]
  },
  {
   "cell_type": "code",
   "execution_count": null,
   "metadata": {},
   "outputs": [],
   "source": [
    "\n",
    "print(pearsonr(target_notna, dTm_list_notna))"
   ]
  },
  {
   "cell_type": "code",
   "execution_count": 16,
   "metadata": {},
   "outputs": [
    {
     "ename": "ValueError",
     "evalue": "array must not contain infs or NaNs",
     "output_type": "error",
     "traceback": [
      "\u001b[0;31m---------------------------------------------------------------------------\u001b[0m",
      "\u001b[0;31mValueError\u001b[0m                                Traceback (most recent call last)",
      "Cell \u001b[0;32mIn[16], line 1\u001b[0m\n\u001b[0;32m----> 1\u001b[0m \u001b[38;5;28mprint\u001b[39m(\u001b[43mpearsonr\u001b[49m\u001b[43m(\u001b[49m\u001b[43mtarget\u001b[49m\u001b[43m,\u001b[49m\u001b[43m \u001b[49m\u001b[43mddG_list\u001b[49m\u001b[43m)\u001b[49m)\n",
      "File \u001b[0;32m~/miniconda3/envs/spired_fitness/lib/python3.11/site-packages/scipy/stats/_stats_py.py:4793\u001b[0m, in \u001b[0;36mpearsonr\u001b[0;34m(x, y, alternative, method)\u001b[0m\n\u001b[1;32m   4788\u001b[0m ym \u001b[38;5;241m=\u001b[39m y\u001b[38;5;241m.\u001b[39mastype(dtype) \u001b[38;5;241m-\u001b[39m ymean\n\u001b[1;32m   4790\u001b[0m \u001b[38;5;66;03m# Unlike np.linalg.norm or the expression sqrt((xm*xm).sum()),\u001b[39;00m\n\u001b[1;32m   4791\u001b[0m \u001b[38;5;66;03m# scipy.linalg.norm(xm) does not overflow if xm is, for example,\u001b[39;00m\n\u001b[1;32m   4792\u001b[0m \u001b[38;5;66;03m# [-5e210, 5e210, 3e200, -3e200]\u001b[39;00m\n\u001b[0;32m-> 4793\u001b[0m normxm \u001b[38;5;241m=\u001b[39m \u001b[43mlinalg\u001b[49m\u001b[38;5;241;43m.\u001b[39;49m\u001b[43mnorm\u001b[49m\u001b[43m(\u001b[49m\u001b[43mxm\u001b[49m\u001b[43m)\u001b[49m\n\u001b[1;32m   4794\u001b[0m normym \u001b[38;5;241m=\u001b[39m linalg\u001b[38;5;241m.\u001b[39mnorm(ym)\n\u001b[1;32m   4796\u001b[0m threshold \u001b[38;5;241m=\u001b[39m \u001b[38;5;241m1e-13\u001b[39m\n",
      "File \u001b[0;32m~/miniconda3/envs/spired_fitness/lib/python3.11/site-packages/scipy/linalg/_misc.py:146\u001b[0m, in \u001b[0;36mnorm\u001b[0;34m(a, ord, axis, keepdims, check_finite)\u001b[0m\n\u001b[1;32m    144\u001b[0m \u001b[38;5;66;03m# Differs from numpy only in non-finite handling and the use of blas.\u001b[39;00m\n\u001b[1;32m    145\u001b[0m \u001b[38;5;28;01mif\u001b[39;00m check_finite:\n\u001b[0;32m--> 146\u001b[0m     a \u001b[38;5;241m=\u001b[39m \u001b[43mnp\u001b[49m\u001b[38;5;241;43m.\u001b[39;49m\u001b[43masarray_chkfinite\u001b[49m\u001b[43m(\u001b[49m\u001b[43ma\u001b[49m\u001b[43m)\u001b[49m\n\u001b[1;32m    147\u001b[0m \u001b[38;5;28;01melse\u001b[39;00m:\n\u001b[1;32m    148\u001b[0m     a \u001b[38;5;241m=\u001b[39m np\u001b[38;5;241m.\u001b[39masarray(a)\n",
      "File \u001b[0;32m~/miniconda3/envs/spired_fitness/lib/python3.11/site-packages/numpy/lib/function_base.py:630\u001b[0m, in \u001b[0;36masarray_chkfinite\u001b[0;34m(a, dtype, order)\u001b[0m\n\u001b[1;32m    628\u001b[0m a \u001b[38;5;241m=\u001b[39m asarray(a, dtype\u001b[38;5;241m=\u001b[39mdtype, order\u001b[38;5;241m=\u001b[39morder)\n\u001b[1;32m    629\u001b[0m \u001b[38;5;28;01mif\u001b[39;00m a\u001b[38;5;241m.\u001b[39mdtype\u001b[38;5;241m.\u001b[39mchar \u001b[38;5;129;01min\u001b[39;00m typecodes[\u001b[38;5;124m'\u001b[39m\u001b[38;5;124mAllFloat\u001b[39m\u001b[38;5;124m'\u001b[39m] \u001b[38;5;129;01mand\u001b[39;00m \u001b[38;5;129;01mnot\u001b[39;00m np\u001b[38;5;241m.\u001b[39misfinite(a)\u001b[38;5;241m.\u001b[39mall():\n\u001b[0;32m--> 630\u001b[0m     \u001b[38;5;28;01mraise\u001b[39;00m \u001b[38;5;167;01mValueError\u001b[39;00m(\n\u001b[1;32m    631\u001b[0m         \u001b[38;5;124m\"\u001b[39m\u001b[38;5;124marray must not contain infs or NaNs\u001b[39m\u001b[38;5;124m\"\u001b[39m)\n\u001b[1;32m    632\u001b[0m \u001b[38;5;28;01mreturn\u001b[39;00m a\n",
      "\u001b[0;31mValueError\u001b[0m: array must not contain infs or NaNs"
     ]
    }
   ],
   "source": [
    "print(pearsonr(target_notna, ddG_list_notna))"
   ]
  },
  {
   "cell_type": "code",
   "execution_count": null,
   "metadata": {},
   "outputs": [],
   "source": []
  }
 ],
 "metadata": {
  "kernelspec": {
   "display_name": "spired_fitness",
   "language": "python",
   "name": "python3"
  },
  "language_info": {
   "codemirror_mode": {
    "name": "ipython",
    "version": 3
   },
   "file_extension": ".py",
   "mimetype": "text/x-python",
   "name": "python",
   "nbconvert_exporter": "python",
   "pygments_lexer": "ipython3",
   "version": "3.1.undefined"
  }
 },
 "nbformat": 4,
 "nbformat_minor": 2
}
